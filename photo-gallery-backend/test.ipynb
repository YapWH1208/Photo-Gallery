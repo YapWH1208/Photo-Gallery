{
 "cells": [
  {
   "cell_type": "code",
   "execution_count": 1,
   "metadata": {},
   "outputs": [],
   "source": [
    "from pprint import pprint\n",
    "import sqlite3"
   ]
  },
  {
   "cell_type": "code",
   "execution_count": 2,
   "metadata": {},
   "outputs": [],
   "source": [
    "DB_FILE = \"images.db\"\n",
    "conn = sqlite3.connect(DB_FILE)\n",
    "cursor = conn.cursor()"
   ]
  },
  {
   "cell_type": "code",
   "execution_count": null,
   "metadata": {},
   "outputs": [],
   "source": [
    "cursor.execute(\"SELECT name FROM sqlite_master WHERE type='table'\")\n",
    "tables = [row[0] for row in cursor.fetchall()]\n",
    "pprint(tables)"
   ]
  },
  {
   "cell_type": "code",
   "execution_count": null,
   "metadata": {},
   "outputs": [],
   "source": [
    "cursor.execute(\"SELECT * FROM themes\")\n",
    "pprint(cursor.fetchall())"
   ]
  },
  {
   "cell_type": "code",
   "execution_count": null,
   "metadata": {},
   "outputs": [],
   "source": [
    "cursor.execute(\"PRAGMA table_info(images)\")\n",
    "pprint(cursor.fetchall())"
   ]
  },
  {
   "cell_type": "code",
   "execution_count": null,
   "metadata": {},
   "outputs": [],
   "source": [
    "def update_missing_previews():\n",
    "    import random  # in case not already imported\n",
    "    # Update collections missing preview_image\n",
    "    cursor.execute(\"SELECT id, name, theme FROM collections\")\n",
    "    collections_missing = cursor.fetchall()\n",
    "    for col in collections_missing:\n",
    "        col_id, collection_name, theme = col\n",
    "        cursor.execute(\"SELECT preview_image FROM images WHERE collection=? AND theme=? AND preview_image IS NOT NULL\", \n",
    "                       (collection_name, theme))\n",
    "        previews = cursor.fetchall()\n",
    "        if previews:\n",
    "            chosen_preview = random.choice([p[0] for p in previews])\n",
    "            cursor.execute(\"UPDATE collections SET preview_image=? WHERE id=?\", (chosen_preview, col_id))\n",
    "            conn.commit()\n",
    "            print(f\"Updated collection {collection_name} with preview {chosen_preview}\")\n",
    "\n",
    "    # Update themes missing preview_image\n",
    "    cursor.execute(\"SELECT id, name FROM themes\")\n",
    "    themes_missing = cursor.fetchall()\n",
    "    for theme_row in themes_missing:\n",
    "        theme_id, theme_name = theme_row\n",
    "        cursor.execute(\"SELECT preview_image FROM collections WHERE theme=? AND preview_image IS NOT NULL\", (theme_name,))\n",
    "        previews = cursor.fetchall()\n",
    "        if previews:\n",
    "            chosen_preview = random.choice([p[0] for p in previews])\n",
    "            cursor.execute(\"UPDATE themes SET preview_image=? WHERE id=?\", (chosen_preview, theme_id))\n",
    "            conn.commit()\n",
    "            print(f\"Updated theme {theme_name} with preview {chosen_preview}\")\n",
    "\n",
    "update_missing_previews()"
   ]
  },
  {
   "cell_type": "code",
   "execution_count": null,
   "metadata": {},
   "outputs": [],
   "source": [
    "import boto3\n",
    "\n",
    "# MinIO Configuration\n",
    "MINIO_ENDPOINT = \"http://localhost:9500\"\n",
    "MINIO_ACCESS_KEY = \"minioadmin\"\n",
    "MINIO_SECRET_KEY = \"minioadmin\"\n",
    "MINIO_BUCKET = \"photo-gallery\"\n",
    "\n",
    "s3_client = boto3.client(\n",
    "    \"s3\", \n",
    "    endpoint_url=MINIO_ENDPOINT,\n",
    "    aws_access_key_id=MINIO_ACCESS_KEY,\n",
    "    aws_secret_access_key=MINIO_SECRET_KEY\n",
    ")\n",
    "\n",
    "key = \"photo-gallery/无限暖暖/游戏内拍摄/2024_12_05_22_01_46_1533941.webp\"\n",
    "s3_client.get_object(Bucket=MINIO_BUCKET, Key=key)\n",
    "\n",
    "import io\n",
    "from PIL import Image\n",
    "\n",
    "response = s3_client.get_object(Bucket=MINIO_BUCKET, Key=key)\n",
    "image = Image.open(io.BytesIO(response[\"Body\"].read()))\n",
    "image.show()"
   ]
  }
 ],
 "metadata": {
  "kernelspec": {
   "display_name": "ai",
   "language": "python",
   "name": "python3"
  },
  "language_info": {
   "codemirror_mode": {
    "name": "ipython",
    "version": 3
   },
   "file_extension": ".py",
   "mimetype": "text/x-python",
   "name": "python",
   "nbconvert_exporter": "python",
   "pygments_lexer": "ipython3",
   "version": "3.12.7"
  }
 },
 "nbformat": 4,
 "nbformat_minor": 2
}
